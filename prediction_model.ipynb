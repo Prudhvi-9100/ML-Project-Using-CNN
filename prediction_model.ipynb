{
  "nbformat": 4,
  "nbformat_minor": 0,
  "metadata": {
    "colab": {
      "provenance": []
    },
    "kernelspec": {
      "name": "python3",
      "display_name": "Python 3"
    },
    "language_info": {
      "name": "python"
    },
    "accelerator": "GPU",
    "gpuClass": "standard"
  },
  "cells": [
    {
      "cell_type": "code",
      "execution_count": null,
      "metadata": {
        "id": "Xja2WXqmba8f"
      },
      "outputs": [],
      "source": [
        "filepath = \"/content/drive/MyDrive/Colab Notebooks/Datasets/CIfar_10 dataset.zip\""
      ]
    },
    {
      "cell_type": "code",
      "source": [
        "from zipfile import ZipFile\n",
        "\n",
        "with ZipFile(filepath) as f:\n",
        "  f.extractall(\"/content/drive/MyDrive/Colab Notebooks/Datasets/cifar10data\")\n",
        "  print(\"Data extracted\")"
      ],
      "metadata": {
        "colab": {
          "base_uri": "https://localhost:8080/"
        },
        "id": "nZcDSBO8is0k",
        "outputId": "1d834356-d391-4a3c-f70f-f47658bf6ac2"
      },
      "execution_count": null,
      "outputs": [
        {
          "output_type": "stream",
          "name": "stdout",
          "text": [
            "Data extracted\n"
          ]
        }
      ]
    },
    {
      "cell_type": "code",
      "source": [
        "import tensorflow as tf\n",
        "from tensorflow.keras import layers\n",
        "from PIL import Image\n",
        "import numpy as np"
      ],
      "metadata": {
        "id": "5J7YiCZRk8RJ"
      },
      "execution_count": 3,
      "outputs": []
    },
    {
      "cell_type": "code",
      "source": [
        "from google.colab import drive\n",
        "drive.mount('/content/drive')"
      ],
      "metadata": {
        "colab": {
          "base_uri": "https://localhost:8080/"
        },
        "id": "liA3tVjzWX_H",
        "outputId": "094b0967-d351-4533-d06c-b3695a40c313"
      },
      "execution_count": 1,
      "outputs": [
        {
          "output_type": "stream",
          "name": "stdout",
          "text": [
            "Drive already mounted at /content/drive; to attempt to forcibly remount, call drive.mount(\"/content/drive\", force_remount=True).\n"
          ]
        }
      ]
    },
    {
      "cell_type": "code",
      "source": [
        "model = tf.keras.models.load_model(\"/content/drive/MyDrive/Colab Notebooks/cifar1.h5\")\n",
        "classes = [\n",
        "    \"airplane\",\n",
        "    \"automobile\",\n",
        "    \"bird\",\n",
        "    \"cat\",\n",
        "    \"deer\",\n",
        "    \"dog\",\n",
        "    \"frog\",\n",
        "    \"horse\",\n",
        "    \"ship\",\n",
        "    \"truck\"\n",
        "]\n",
        "model.summary()"
      ],
      "metadata": {
        "id": "yyDGvPJXmW88",
        "colab": {
          "base_uri": "https://localhost:8080/"
        },
        "outputId": "266386c3-3f48-4010-953d-c154a34579f8"
      },
      "execution_count": 4,
      "outputs": [
        {
          "output_type": "stream",
          "name": "stdout",
          "text": [
            "Model: \"sequential_8\"\n",
            "_________________________________________________________________\n",
            " Layer (type)                Output Shape              Param #   \n",
            "=================================================================\n",
            " conv2d_27 (Conv2D)          (None, 32, 32, 18)        1368      \n",
            "                                                                 \n",
            " max_pooling2d_27 (MaxPoolin  (None, 16, 16, 18)       0         \n",
            " g2D)                                                            \n",
            "                                                                 \n",
            " conv2d_28 (Conv2D)          (None, 16, 16, 18)        2934      \n",
            "                                                                 \n",
            " max_pooling2d_28 (MaxPoolin  (None, 8, 8, 18)         0         \n",
            " g2D)                                                            \n",
            "                                                                 \n",
            " conv2d_29 (Conv2D)          (None, 8, 8, 36)          5868      \n",
            "                                                                 \n",
            " max_pooling2d_29 (MaxPoolin  (None, 4, 4, 36)         0         \n",
            " g2D)                                                            \n",
            "                                                                 \n",
            " conv2d_30 (Conv2D)          (None, 4, 4, 36)          11700     \n",
            "                                                                 \n",
            " max_pooling2d_30 (MaxPoolin  (None, 2, 2, 36)         0         \n",
            " g2D)                                                            \n",
            "                                                                 \n",
            " flatten_6 (Flatten)         (None, 144)               0         \n",
            "                                                                 \n",
            " dense_16 (Dense)            (None, 100)               14500     \n",
            "                                                                 \n",
            " dense_17 (Dense)            (None, 10)                1010      \n",
            "                                                                 \n",
            " softmax_4 (Softmax)         (None, 10)                0         \n",
            "                                                                 \n",
            "=================================================================\n",
            "Total params: 37,380\n",
            "Trainable params: 37,380\n",
            "Non-trainable params: 0\n",
            "_________________________________________________________________\n"
          ]
        }
      ]
    },
    {
      "cell_type": "code",
      "source": [
        "img = Image.open(\"/content/drive/MyDrive/test.jpeg\")\n",
        "img = img.resize((32,32))\n",
        "img"
      ],
      "metadata": {
        "colab": {
          "base_uri": "https://localhost:8080/",
          "height": 49
        },
        "id": "smVt9e2bX0UN",
        "outputId": "7267b808-eaa9-4912-99ac-49eb0ee5c0e7"
      },
      "execution_count": 5,
      "outputs": [
        {
          "output_type": "execute_result",
          "data": {
            "text/plain": [
              "<PIL.Image.Image image mode=RGB size=32x32 at 0x7FC74ACCCF40>"
            ],
            "image/png": "[encoded data removed]"
          },
          "metadata": {},
          "execution_count": 5
        }
      ]
    },
    {
      "cell_type": "code",
      "source": [
        "test = tf.reshape(np.array(img)/255, (-1,32,32,3))\n",
        "preds = model.predict(test, verbose=False)[0]*100\n",
        "preds = tf.math.round(preds)\n",
        "print(preds)\n",
        "\n",
        "confidence = tf.reduce_max(preds)\n",
        "index = int(tf.where(preds == confidence)[0][0])\n",
        "print(index)\n",
        "\n",
        "pred = classes[index]\n",
        "\n",
        "print(pred.title(),int(confidence),\"%\")"
      ],
      "metadata": {
        "colab": {
          "base_uri": "https://localhost:8080/"
        },
        "id": "7-_eV45alHgB",
        "outputId": "30695d35-0bb6-46b4-fda7-9864f00ae34c"
      },
      "execution_count": 6,
      "outputs": [
        {
          "output_type": "stream",
          "name": "stdout",
          "text": [
            "tf.Tensor([  0. 100.   0.   0.   0.   0.   0.   0.   0.   0.], shape=(10,), dtype=float32)\n",
            "1\n",
            "Automobile 100 %\n"
          ]
        }
      ]
    }
  ]
}