{
  "nbformat": 4,
  "nbformat_minor": 0,
  "metadata": {
    "colab": {
      "provenance": []
    },
    "kernelspec": {
      "name": "python3",
      "display_name": "Python 3"
    },
    "language_info": {
      "name": "python"
    }
  },
  "cells": [
    {
      "cell_type": "code",
      "execution_count": null,
      "metadata": {
        "id": "u_Y7Uz1X28A1",
        "colab": {
          "base_uri": "https://localhost:8080/"
        },
        "outputId": "7afab2ee-85fd-4c9b-f2fd-9cab67eb5c21"
      },
      "outputs": [
        {
          "output_type": "stream",
          "name": "stdout",
          "text": [
            "Mounted at /content/drive/\n"
          ]
        }
      ],
      "source": [
        "from google.colab import drive\n",
        "drive.mount(\"/content/drive/\")"
      ]
    },
    {
      "cell_type": "code",
      "source": [
        "import os\n",
        "os.listdir(\"/content/drive/MyDrive/Colab Notebooks\")"
      ],
      "metadata": {
        "colab": {
          "base_uri": "https://localhost:8080/"
        },
        "id": "UsYnrCOkYv1W",
        "outputId": "e1e0cef8-59fa-4c28-a776-6955a6bda7e2"
      },
      "execution_count": null,
      "outputs": [
        {
          "output_type": "execute_result",
          "data": {
            "text/plain": [
              "['Untitled0.ipynb',\n",
              " 'tensorflow.ipynb',\n",
              " 'linear.ipynb',\n",
              " 'binarycalssification.ipynb',\n",
              " 'binaryclass.ipynb',\n",
              " 'water.py',\n",
              " 'credit.ipynb',\n",
              " 'waterpot.ipynb',\n",
              " 'Datasets',\n",
              " 'Untitled1.ipynb',\n",
              " 'ciafar10_cnn.ipynb']"
            ]
          },
          "metadata": {},
          "execution_count": 4
        }
      ]
    },
    {
      "cell_type": "code",
      "source": [
        "filepath = \"/content/drive/MyDrive/Colab Notebooks/Datasets/CIfar_10 dataset.zip\""
      ],
      "metadata": {
        "id": "zkLXJSRvZPIc"
      },
      "execution_count": null,
      "outputs": []
    },
    {
      "cell_type": "code",
      "source": [
        "from zipfile import ZipFile\n",
        "\n",
        "with ZipFile(filepath) as f:\n",
        "  f.extractall(\"./cifar10data\")\n",
        "  print(\"Data extracted\")"
      ],
      "metadata": {
        "colab": {
          "base_uri": "https://localhost:8080/"
        },
        "id": "ozEjPutoZYvx",
        "outputId": "858e6f23-b32e-4004-e076-bbc540d75a77"
      },
      "execution_count": null,
      "outputs": [
        {
          "output_type": "stream",
          "name": "stdout",
          "text": [
            "Data extracted\n"
          ]
        }
      ]
    },
    {
      "cell_type": "code",
      "source": [
        "os.listdir(\".\")"
      ],
      "metadata": {
        "colab": {
          "base_uri": "https://localhost:8080/"
        },
        "id": "2CRLsM_uZ7p-",
        "outputId": "96723f5d-cdd7-4d7c-de4a-dc93ee090677"
      },
      "execution_count": null,
      "outputs": [
        {
          "output_type": "execute_result",
          "data": {
            "text/plain": [
              "['.config', 'cifar10data', 'drive', 'sample_data']"
            ]
          },
          "metadata": {},
          "execution_count": 9
        }
      ]
    },
    {
      "cell_type": "code",
      "source": [
        "import tensorflow as tf\n",
        "from PIL import Image\n",
        "from tensorflow.keras import layers"
      ],
      "metadata": {
        "id": "yao9pvH5afnC"
      },
      "execution_count": null,
      "outputs": []
    },
    {
      "cell_type": "code",
      "source": [
        "img = Image.open(\"/content/cifar10data/archive (1)/cifar10/test/airplane/1001_airplane.png\")\n",
        "img.size"
      ],
      "metadata": {
        "colab": {
          "base_uri": "https://localhost:8080/"
        },
        "id": "_0wVCqCoasVw",
        "outputId": "2e88d7cc-1c6a-496f-ab5d-e7516557c217"
      },
      "execution_count": null,
      "outputs": [
        {
          "output_type": "execute_result",
          "data": {
            "text/plain": [
              "(32, 32)"
            ]
          },
          "metadata": {},
          "execution_count": 11
        }
      ]
    },
    {
      "cell_type": "code",
      "source": [
        "data = tf.keras.utils.image_dataset_from_directory(\n",
        "    \"/content/cifar10data/archive (1)/cifar10/train\",\n",
        "    image_size=(32,32),\n",
        "    color_mode=\"rgb\",\n",
        "    batch_size=50000\n",
        ")"
      ],
      "metadata": {
        "colab": {
          "base_uri": "https://localhost:8080/"
        },
        "id": "3TbCz4c2a-rX",
        "outputId": "e792cc08-ab8f-429f-9c18-76794e7828c2"
      },
      "execution_count": null,
      "outputs": [
        {
          "output_type": "stream",
          "name": "stdout",
          "text": [
            "Found 50000 files belonging to 10 classes.\n"
          ]
        }
      ]
    },
    {
      "cell_type": "code",
      "source": [
        "len(data)"
      ],
      "metadata": {
        "colab": {
          "base_uri": "https://localhost:8080/"
        },
        "id": "2jLEYCowbi82",
        "outputId": "0f27ee47-a664-4bb4-998b-836642202ee7"
      },
      "execution_count": null,
      "outputs": [
        {
          "output_type": "execute_result",
          "data": {
            "text/plain": [
              "1"
            ]
          },
          "metadata": {},
          "execution_count": 13
        }
      ]
    },
    {
      "cell_type": "code",
      "source": [
        "cnn_model = tf.keras.Sequential([\n",
        "    layers.Conv2D(9,3,padding=\"same\"),\n",
        "    layers.MaxPool2D(),\n",
        "    layers.Conv2D(18,3,padding=\"same\"),\n",
        "    layers.MaxPool2D(),\n",
        "    layers.Conv2D(36,3),\n",
        "    layers.MaxPool2D(),\n",
        "    layers.Flatten(),\n",
        "    layers.Dense(64,activation=\"relu\"),\n",
        "    layers.Dense(10),\n",
        "    layers.Softmax()\n",
        "])"
      ],
      "metadata": {
        "id": "dsuL4XECbmgw"
      },
      "execution_count": null,
      "outputs": []
    },
    {
      "cell_type": "code",
      "source": [
        "cnn_model.build(input_shape=(1,32,32,3))\n",
        "cnn_model.summary()"
      ],
      "metadata": {
        "colab": {
          "base_uri": "https://localhost:8080/"
        },
        "id": "5QF0I9HIcbcF",
        "outputId": "b70712d6-82fd-4e25-def5-e823aba5469d"
      },
      "execution_count": null,
      "outputs": [
        {
          "output_type": "stream",
          "name": "stdout",
          "text": [
            "Model: \"sequential\"\n",
            "_________________________________________________________________\n",
            " Layer (type)                Output Shape              Param #   \n",
            "=================================================================\n",
            " conv2d (Conv2D)             (1, 32, 32, 9)            252       \n",
            "                                                                 \n",
            " max_pooling2d (MaxPooling2D  (1, 16, 16, 9)           0         \n",
            " )                                                               \n",
            "                                                                 \n",
            " conv2d_1 (Conv2D)           (1, 16, 16, 18)           1476      \n",
            "                                                                 \n",
            " max_pooling2d_1 (MaxPooling  (1, 8, 8, 18)            0         \n",
            " 2D)                                                             \n",
            "                                                                 \n",
            " conv2d_2 (Conv2D)           (1, 6, 6, 36)             5868      \n",
            "                                                                 \n",
            " max_pooling2d_2 (MaxPooling  (1, 3, 3, 36)            0         \n",
            " 2D)                                                             \n",
            "                                                                 \n",
            " flatten (Flatten)           (1, 324)                  0         \n",
            "                                                                 \n",
            " dense (Dense)               (1, 64)                   20800     \n",
            "                                                                 \n",
            " dense_1 (Dense)             (1, 10)                   650       \n",
            "                                                                 \n",
            " softmax (Softmax)           (1, 10)                   0         \n",
            "                                                                 \n",
            "=================================================================\n",
            "Total params: 29,046\n",
            "Trainable params: 29,046\n",
            "Non-trainable params: 0\n",
            "_________________________________________________________________\n"
          ]
        }
      ]
    },
    {
      "cell_type": "code",
      "source": [
        "for img,labels in data:\n",
        "  labels=tf.one_hot(labels,10)\n",
        "  print(img.shape,labels.shape)\n",
        "  pred=cnn_model.predict(img)\n",
        "  print(pred)\n",
        "  break"
      ],
      "metadata": {
        "colab": {
          "base_uri": "https://localhost:8080/"
        },
        "id": "gmT6BnHWcl6d",
        "outputId": "2676a4ae-00f2-422f-ddc5-7db33e9b647a"
      },
      "execution_count": null,
      "outputs": [
        {
          "output_type": "stream",
          "name": "stdout",
          "text": [
            "(50000, 32, 32, 3) (50000, 10)\n",
            "1563/1563 [==============================] - 20s 13ms/step\n",
            "[[0.0000000e+00 1.9530506e-13 1.2360092e-29 ... 0.0000000e+00\n",
            "  1.1600164e-29 0.0000000e+00]\n",
            " [0.0000000e+00 5.7397777e-01 8.8894578e-33 ... 0.0000000e+00\n",
            "  1.5006827e-03 0.0000000e+00]\n",
            " [0.0000000e+00 9.9999994e-01 0.0000000e+00 ... 0.0000000e+00\n",
            "  0.0000000e+00 0.0000000e+00]\n",
            " ...\n",
            " [0.0000000e+00 9.9975657e-01 4.2265889e-38 ... 0.0000000e+00\n",
            "  2.5413221e-34 0.0000000e+00]\n",
            " [0.0000000e+00 9.9999434e-01 2.6873561e-30 ... 0.0000000e+00\n",
            "  2.0421547e-32 0.0000000e+00]\n",
            " [0.0000000e+00 6.2474138e-03 3.5391183e-24 ... 0.0000000e+00\n",
            "  4.2819330e-28 0.0000000e+00]]\n"
          ]
        }
      ]
    },
    {
      "cell_type": "code",
      "source": [
        "model=tf.keras.Sequential([\n",
        "    layers.Conv2D(9,3,input_shape=(32,32,3)),\n",
        "    layers.MaxPool2D(),\n",
        "    layers.Conv2D(18,3),\n",
        "    layers.MaxPool2D(),\n",
        "    layers.Conv2D(18,3),\n",
        "    layers.MaxPool2D(),\n",
        "    layers.Flatten(),\n",
        "    layers.Dense(30,activation=\"relu\"),\n",
        "    layers.Dense(10),\n",
        "    layers.Activation(\"softmax\")\n",
        "])"
      ],
      "metadata": {
        "id": "LP0mDwRieGhQ"
      },
      "execution_count": null,
      "outputs": []
    },
    {
      "cell_type": "code",
      "source": [
        "model.summary()"
      ],
      "metadata": {
        "colab": {
          "base_uri": "https://localhost:8080/"
        },
        "id": "swfV5JVseM3g",
        "outputId": "c72b14a8-47eb-40f2-93ee-fe255713c376"
      },
      "execution_count": null,
      "outputs": [
        {
          "output_type": "stream",
          "name": "stdout",
          "text": [
            "Model: \"sequential_1\"\n",
            "_________________________________________________________________\n",
            " Layer (type)                Output Shape              Param #   \n",
            "=================================================================\n",
            " conv2d_3 (Conv2D)           (None, 30, 30, 9)         252       \n",
            "                                                                 \n",
            " max_pooling2d_3 (MaxPooling  (None, 15, 15, 9)        0         \n",
            " 2D)                                                             \n",
            "                                                                 \n",
            " conv2d_4 (Conv2D)           (None, 13, 13, 18)        1476      \n",
            "                                                                 \n",
            " max_pooling2d_4 (MaxPooling  (None, 6, 6, 18)         0         \n",
            " 2D)                                                             \n",
            "                                                                 \n",
            " conv2d_5 (Conv2D)           (None, 4, 4, 18)          2934      \n",
            "                                                                 \n",
            " max_pooling2d_5 (MaxPooling  (None, 2, 2, 18)         0         \n",
            " 2D)                                                             \n",
            "                                                                 \n",
            " flatten_1 (Flatten)         (None, 72)                0         \n",
            "                                                                 \n",
            " dense_2 (Dense)             (None, 30)                2190      \n",
            "                                                                 \n",
            " dense_3 (Dense)             (None, 10)                310       \n",
            "                                                                 \n",
            " activation (Activation)     (None, 10)                0         \n",
            "                                                                 \n",
            "=================================================================\n",
            "Total params: 7,162\n",
            "Trainable params: 7,162\n",
            "Non-trainable params: 0\n",
            "_________________________________________________________________\n"
          ]
        }
      ]
    },
    {
      "cell_type": "code",
      "source": [
        "model.compile(\n",
        "    loss = tf.keras.losses.categorical_crossentropy,\n",
        "    optimizer = tf.keras.optimizers.Adam(),\n",
        "    metrics = [\"Accuracy\"]\n",
        ")"
      ],
      "metadata": {
        "id": "sinJT6qdeQYo"
      },
      "execution_count": null,
      "outputs": []
    },
    {
      "cell_type": "code",
      "source": [
        "for features,labels in data:\n",
        "    features=tf.divide(features,255)\n",
        "    labels=tf.one_hot(labels,10)\n",
        "    record=model.fit(features,labels,batch_size=50,epochs=100)"
      ],
      "metadata": {
        "colab": {
          "base_uri": "https://localhost:8080/"
        },
        "id": "3RJENmLKq9vL",
        "outputId": "349f3518-6c52-4d95-c2da-692c7370e0e2"
      },
      "execution_count": null,
      "outputs": [
        {
          "output_type": "stream",
          "name": "stdout",
          "text": [
            "Epoch 1/100\n",
            "100/100 [==============================] - 26s 253ms/step - loss: 1.7102 - Accuracy: 0.3793\n",
            "Epoch 2/100\n",
            "100/100 [==============================] - 26s 261ms/step - loss: 1.6137 - Accuracy: 0.4126\n",
            "Epoch 3/100\n",
            "100/100 [==============================] - 25s 253ms/step - loss: 1.5542 - Accuracy: 0.4359\n",
            "Epoch 4/100\n",
            "100/100 [==============================] - 26s 256ms/step - loss: 1.5070 - Accuracy: 0.4520\n",
            "Epoch 5/100\n",
            "100/100 [==============================] - 25s 253ms/step - loss: 1.4641 - Accuracy: 0.4695\n",
            "Epoch 6/100\n",
            "100/100 [==============================] - 25s 251ms/step - loss: 1.4369 - Accuracy: 0.4793\n",
            "Epoch 7/100\n",
            "100/100 [==============================] - 27s 267ms/step - loss: 1.4134 - Accuracy: 0.4894\n",
            "Epoch 8/100\n",
            "100/100 [==============================] - 28s 281ms/step - loss: 1.3921 - Accuracy: 0.4991\n",
            "Epoch 9/100\n",
            "100/100 [==============================] - 26s 261ms/step - loss: 1.3718 - Accuracy: 0.5054\n",
            "Epoch 10/100\n",
            "100/100 [==============================] - 28s 279ms/step - loss: 1.3607 - Accuracy: 0.5115\n",
            "Epoch 11/100\n",
            "100/100 [==============================] - 25s 252ms/step - loss: 1.3460 - Accuracy: 0.5168\n",
            "Epoch 12/100\n",
            "100/100 [==============================] - 25s 252ms/step - loss: 1.3355 - Accuracy: 0.5219\n",
            "Epoch 13/100\n",
            "100/100 [==============================] - 25s 252ms/step - loss: 1.3164 - Accuracy: 0.5294\n",
            "Epoch 14/100\n",
            "100/100 [==============================] - 26s 256ms/step - loss: 1.3090 - Accuracy: 0.5315\n",
            "Epoch 15/100\n",
            "100/100 [==============================] - 26s 258ms/step - loss: 1.2918 - Accuracy: 0.5383\n",
            "Epoch 16/100\n",
            "100/100 [==============================] - 26s 261ms/step - loss: 1.2837 - Accuracy: 0.5415\n",
            "Epoch 17/100\n",
            "100/100 [==============================] - 25s 253ms/step - loss: 1.2698 - Accuracy: 0.5483\n",
            "Epoch 18/100\n",
            "100/100 [==============================] - 25s 253ms/step - loss: 1.2586 - Accuracy: 0.5519\n",
            "Epoch 19/100\n",
            "100/100 [==============================] - 28s 285ms/step - loss: 1.2483 - Accuracy: 0.5573\n",
            "Epoch 20/100\n",
            "100/100 [==============================] - 28s 281ms/step - loss: 1.2426 - Accuracy: 0.5585\n",
            "Epoch 21/100\n",
            "100/100 [==============================] - 26s 259ms/step - loss: 1.2302 - Accuracy: 0.5622\n",
            "Epoch 22/100\n",
            "100/100 [==============================] - 26s 262ms/step - loss: 1.2189 - Accuracy: 0.5671\n",
            "Epoch 23/100\n",
            "100/100 [==============================] - 25s 254ms/step - loss: 1.2146 - Accuracy: 0.5673\n",
            "Epoch 24/100\n",
            "100/100 [==============================] - 25s 252ms/step - loss: 1.2046 - Accuracy: 0.5711\n",
            "Epoch 25/100\n",
            "100/100 [==============================] - 25s 254ms/step - loss: 1.1953 - Accuracy: 0.5755\n",
            "Epoch 26/100\n",
            "100/100 [==============================] - 25s 251ms/step - loss: 1.1899 - Accuracy: 0.5794\n",
            "Epoch 27/100\n",
            "100/100 [==============================] - 26s 256ms/step - loss: 1.1767 - Accuracy: 0.5821\n",
            "Epoch 28/100\n",
            "100/100 [==============================] - 26s 257ms/step - loss: 1.1736 - Accuracy: 0.5851\n",
            "Epoch 29/100\n",
            "100/100 [==============================] - 28s 278ms/step - loss: 1.1695 - Accuracy: 0.5864\n",
            "Epoch 30/100\n",
            "100/100 [==============================] - 26s 257ms/step - loss: 1.1607 - Accuracy: 0.5892\n",
            "Epoch 31/100\n",
            "100/100 [==============================] - 25s 254ms/step - loss: 1.1522 - Accuracy: 0.5919\n",
            "Epoch 32/100\n",
            "100/100 [==============================] - 25s 253ms/step - loss: 1.1460 - Accuracy: 0.5950\n",
            "Epoch 33/100\n",
            "100/100 [==============================] - 26s 256ms/step - loss: 1.1449 - Accuracy: 0.5948\n",
            "Epoch 34/100\n",
            "100/100 [==============================] - 25s 253ms/step - loss: 1.1327 - Accuracy: 0.5993\n",
            "Epoch 35/100\n",
            "100/100 [==============================] - 26s 256ms/step - loss: 1.1268 - Accuracy: 0.6022\n",
            "Epoch 36/100\n",
            "100/100 [==============================] - 26s 255ms/step - loss: 1.1205 - Accuracy: 0.6035\n",
            "Epoch 37/100\n",
            "100/100 [==============================] - 26s 258ms/step - loss: 1.1178 - Accuracy: 0.6056\n",
            "Epoch 38/100\n",
            "100/100 [==============================] - 26s 258ms/step - loss: 1.1129 - Accuracy: 0.6083\n",
            "Epoch 39/100\n",
            "100/100 [==============================] - 29s 289ms/step - loss: 1.1093 - Accuracy: 0.6077\n",
            "Epoch 40/100\n",
            "100/100 [==============================] - 30s 301ms/step - loss: 1.1041 - Accuracy: 0.6112\n",
            "Epoch 41/100\n",
            "100/100 [==============================] - 34s 335ms/step - loss: 1.1024 - Accuracy: 0.6106\n",
            "Epoch 42/100\n",
            "100/100 [==============================] - 32s 320ms/step - loss: 1.0976 - Accuracy: 0.6139\n",
            "Epoch 43/100\n",
            "100/100 [==============================] - 31s 312ms/step - loss: 1.0911 - Accuracy: 0.6158\n",
            "Epoch 44/100\n",
            "100/100 [==============================] - 27s 269ms/step - loss: 1.0869 - Accuracy: 0.6169\n",
            "Epoch 45/100\n",
            "100/100 [==============================] - 30s 304ms/step - loss: 1.0899 - Accuracy: 0.6160\n",
            "Epoch 46/100\n",
            "100/100 [==============================] - 33s 330ms/step - loss: 1.0796 - Accuracy: 0.6209\n",
            "Epoch 47/100\n",
            "100/100 [==============================] - 37s 373ms/step - loss: 1.0769 - Accuracy: 0.6210\n",
            "Epoch 48/100\n",
            "100/100 [==============================] - 30s 298ms/step - loss: 1.0732 - Accuracy: 0.6227\n",
            "Epoch 49/100\n",
            "100/100 [==============================] - 28s 276ms/step - loss: 1.0706 - Accuracy: 0.6253\n",
            "Epoch 50/100\n",
            "100/100 [==============================] - 25s 253ms/step - loss: 1.0672 - Accuracy: 0.6236\n",
            "Epoch 51/100\n",
            "100/100 [==============================] - 25s 255ms/step - loss: 1.0637 - Accuracy: 0.6267\n",
            "Epoch 52/100\n",
            "100/100 [==============================] - 25s 255ms/step - loss: 1.0594 - Accuracy: 0.6287\n",
            "Epoch 53/100\n",
            "100/100 [==============================] - 26s 255ms/step - loss: 1.0585 - Accuracy: 0.6291\n",
            "Epoch 54/100\n",
            "100/100 [==============================] - 26s 255ms/step - loss: 1.0517 - Accuracy: 0.6310\n",
            "Epoch 55/100\n",
            "100/100 [==============================] - 25s 254ms/step - loss: 1.0488 - Accuracy: 0.6336\n",
            "Epoch 56/100\n",
            "100/100 [==============================] - 28s 277ms/step - loss: 1.0452 - Accuracy: 0.6326\n",
            "Epoch 57/100\n",
            "100/100 [==============================] - 26s 256ms/step - loss: 1.0420 - Accuracy: 0.6353\n",
            "Epoch 58/100\n",
            "100/100 [==============================] - 25s 250ms/step - loss: 1.0384 - Accuracy: 0.6362\n",
            "Epoch 59/100\n",
            "100/100 [==============================] - 25s 253ms/step - loss: 1.0385 - Accuracy: 0.6362\n",
            "Epoch 60/100\n",
            "100/100 [==============================] - 25s 254ms/step - loss: 1.0366 - Accuracy: 0.6373\n",
            "Epoch 61/100\n",
            "100/100 [==============================] - 25s 255ms/step - loss: 1.0336 - Accuracy: 0.6392\n",
            "Epoch 62/100\n",
            "100/100 [==============================] - 25s 254ms/step - loss: 1.0292 - Accuracy: 0.6396\n",
            "Epoch 63/100\n",
            "100/100 [==============================] - 26s 256ms/step - loss: 1.0302 - Accuracy: 0.6401\n",
            "Epoch 64/100\n",
            "100/100 [==============================] - 28s 276ms/step - loss: 1.0251 - Accuracy: 0.6417\n",
            "Epoch 65/100\n",
            "100/100 [==============================] - 26s 256ms/step - loss: 1.0220 - Accuracy: 0.6437\n",
            "Epoch 66/100\n",
            "100/100 [==============================] - 25s 252ms/step - loss: 1.0184 - Accuracy: 0.6450\n",
            "Epoch 67/100\n",
            "100/100 [==============================] - 26s 257ms/step - loss: 1.0202 - Accuracy: 0.6423\n",
            "Epoch 68/100\n",
            "100/100 [==============================] - 26s 255ms/step - loss: 1.0127 - Accuracy: 0.6463\n",
            "Epoch 69/100\n",
            "100/100 [==============================] - 25s 252ms/step - loss: 1.0117 - Accuracy: 0.6467\n",
            "Epoch 70/100\n",
            "100/100 [==============================] - 25s 251ms/step - loss: 1.0131 - Accuracy: 0.6467\n",
            "Epoch 71/100\n",
            "100/100 [==============================] - 25s 250ms/step - loss: 1.0099 - Accuracy: 0.6472\n",
            "Epoch 72/100\n",
            "100/100 [==============================] - 25s 253ms/step - loss: 1.0056 - Accuracy: 0.6481\n",
            "Epoch 73/100\n",
            "100/100 [==============================] - 25s 251ms/step - loss: 1.0049 - Accuracy: 0.6484\n",
            "Epoch 74/100\n",
            "100/100 [==============================] - 27s 274ms/step - loss: 1.0023 - Accuracy: 0.6500\n",
            "Epoch 75/100\n",
            "100/100 [==============================] - 25s 252ms/step - loss: 0.9985 - Accuracy: 0.6521\n",
            "Epoch 76/100\n",
            "100/100 [==============================] - 26s 256ms/step - loss: 0.9925 - Accuracy: 0.6538\n",
            "Epoch 77/100\n",
            "100/100 [==============================] - 25s 253ms/step - loss: 0.9943 - Accuracy: 0.6522\n",
            "Epoch 78/100\n",
            "100/100 [==============================] - 25s 254ms/step - loss: 0.9898 - Accuracy: 0.6537\n",
            "Epoch 79/100\n",
            "100/100 [==============================] - 26s 256ms/step - loss: 0.9926 - Accuracy: 0.6533\n",
            "Epoch 80/100\n",
            "100/100 [==============================] - 25s 252ms/step - loss: 0.9864 - Accuracy: 0.6562\n",
            "Epoch 81/100\n",
            "100/100 [==============================] - 25s 254ms/step - loss: 0.9863 - Accuracy: 0.6540\n",
            "Epoch 82/100\n",
            "100/100 [==============================] - 25s 252ms/step - loss: 0.9848 - Accuracy: 0.6554\n",
            "Epoch 83/100\n",
            "100/100 [==============================] - 27s 274ms/step - loss: 0.9835 - Accuracy: 0.6556\n",
            "Epoch 84/100\n",
            "100/100 [==============================] - 25s 252ms/step - loss: 0.9763 - Accuracy: 0.6597\n",
            "Epoch 85/100\n",
            "100/100 [==============================] - 25s 252ms/step - loss: 0.9756 - Accuracy: 0.6605\n",
            "Epoch 86/100\n",
            "100/100 [==============================] - 25s 252ms/step - loss: 0.9766 - Accuracy: 0.6582\n",
            "Epoch 87/100\n",
            "100/100 [==============================] - 25s 252ms/step - loss: 0.9753 - Accuracy: 0.6598\n",
            "Epoch 88/100\n",
            "100/100 [==============================] - 25s 250ms/step - loss: 0.9709 - Accuracy: 0.6618\n",
            "Epoch 89/100\n",
            "100/100 [==============================] - 25s 253ms/step - loss: 0.9704 - Accuracy: 0.6610\n",
            "Epoch 90/100\n",
            "100/100 [==============================] - 25s 252ms/step - loss: 0.9713 - Accuracy: 0.6610\n",
            "Epoch 91/100\n",
            "100/100 [==============================] - 25s 251ms/step - loss: 0.9696 - Accuracy: 0.6610\n",
            "Epoch 92/100\n",
            "100/100 [==============================] - 25s 249ms/step - loss: 0.9655 - Accuracy: 0.6648\n",
            "Epoch 93/100\n",
            "100/100 [==============================] - 27s 273ms/step - loss: 0.9650 - Accuracy: 0.6627\n",
            "Epoch 94/100\n",
            "100/100 [==============================] - 25s 248ms/step - loss: 0.9615 - Accuracy: 0.6637\n",
            "Epoch 95/100\n",
            "100/100 [==============================] - 25s 251ms/step - loss: 0.9637 - Accuracy: 0.6621\n",
            "Epoch 96/100\n",
            "100/100 [==============================] - 25s 252ms/step - loss: 0.9594 - Accuracy: 0.6641\n",
            "Epoch 97/100\n",
            "100/100 [==============================] - 25s 248ms/step - loss: 0.9556 - Accuracy: 0.6654\n",
            "Epoch 98/100\n",
            "100/100 [==============================] - 25s 251ms/step - loss: 0.9566 - Accuracy: 0.6647\n",
            "Epoch 99/100\n",
            "100/100 [==============================] - 25s 248ms/step - loss: 0.9545 - Accuracy: 0.6659\n",
            "Epoch 100/100\n",
            "100/100 [==============================] - 25s 248ms/step - loss: 0.9490 - Accuracy: 0.6696\n"
          ]
        }
      ]
    }
  ]
}